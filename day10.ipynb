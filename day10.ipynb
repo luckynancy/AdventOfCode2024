{
 "cells": [
  {
   "cell_type": "code",
   "execution_count": 1,
   "metadata": {},
   "outputs": [
    {
     "name": "stdout",
     "output_type": "stream",
     "text": [
      "242090118578155\n"
     ]
    }
   ],
   "source": [
    "import math\n",
    "from functools import lru_cache\n",
    "\n",
    "input = open(f'day10.txt').read()\n",
    "input = [int(x) for x in input.strip().split(' ')]\n",
    "\n",
    "@lru_cache(maxsize=None)\n",
    "def find_len(i, item):\n",
    "    if i > 0:\n",
    "        if item == 0:\n",
    "            return find_len(i-1, 1)\n",
    "        else:\n",
    "            digits = str(item)\n",
    "            length = len(digits)\n",
    "            if length%2 == 0:\n",
    "                mid = length // 2\n",
    "                return find_len(i-1, int(digits[0:mid])) + find_len(i-1, int(digits[mid:])) \n",
    "            else: \n",
    "                return find_len(i-1, item*2024)\n",
    "    else:\n",
    "        return 1\n",
    "\n",
    "sum= 0\n",
    "blicks = 75\n",
    "for ele in input:\n",
    "    sum += find_len(blicks, ele)\n",
    "print(sum)"
   ]
  }
 ],
 "metadata": {
  "kernelspec": {
   "display_name": "Python 3",
   "language": "python",
   "name": "python3"
  },
  "language_info": {
   "codemirror_mode": {
    "name": "ipython",
    "version": 3
   },
   "file_extension": ".py",
   "mimetype": "text/x-python",
   "name": "python",
   "nbconvert_exporter": "python",
   "pygments_lexer": "ipython3",
   "version": "3.12.7"
  }
 },
 "nbformat": 4,
 "nbformat_minor": 2
}
