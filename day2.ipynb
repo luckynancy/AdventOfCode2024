{
 "cells": [
  {
   "cell_type": "code",
   "execution_count": 87,
   "metadata": {},
   "outputs": [
    {
     "name": "stdout",
     "output_type": "stream",
     "text": [
      "Part I: 411\n",
      "Part II: 465\n"
     ]
    }
   ],
   "source": [
    "def safe_report(report):\n",
    "    k = 0\n",
    "    tolerate = True\n",
    "    for i in range(0, len(report)-1):\n",
    "        val = report[i] - report[i+1]\n",
    "        if val >= 0: \n",
    "            k += 1\n",
    "        else:\n",
    "            k -= 1\n",
    "        if abs(val) < 1 or abs(val) > 3:\n",
    "            tolerate = False\n",
    "    monotonic = True if (abs(k) == len(report)-1) else False\n",
    "    return tolerate and monotonic\n",
    "\n",
    "def single_bad_report(ls):\n",
    "    allowed = 0\n",
    "    for i in range(0, len(ls)):\n",
    "        copy = ls.copy()\n",
    "        copy.pop(i)\n",
    "        allowed += safe_report(copy)\n",
    "    return allowed > 0\n",
    "\n",
    "\n",
    "part1 = 0\n",
    "part2 = 0 \n",
    "with open('day02.txt', encoding='utf8') as f:\n",
    "    for line in f:\n",
    "        ls = [int(x) for x in line.strip().split(' ')]\n",
    "        safe = safe_report(ls)\n",
    "        part1 += safe\n",
    "        if not safe:\n",
    "            part2 += single_bad_report(ls)\n",
    "\n",
    "print(\"Part I: {}\".format(part1))\n",
    "print(\"Part II: {}\".format(part1+part2))"
   ]
  }
 ],
 "metadata": {
  "kernelspec": {
   "display_name": "Python 3",
   "language": "python",
   "name": "python3"
  },
  "language_info": {
   "codemirror_mode": {
    "name": "ipython",
    "version": 3
   },
   "file_extension": ".py",
   "mimetype": "text/x-python",
   "name": "python",
   "nbconvert_exporter": "python",
   "pygments_lexer": "ipython3",
   "version": "3.12.7"
  }
 },
 "nbformat": 4,
 "nbformat_minor": 2
}
