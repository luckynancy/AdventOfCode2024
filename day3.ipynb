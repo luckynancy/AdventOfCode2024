{
 "cells": [
  {
   "cell_type": "code",
   "execution_count": null,
   "metadata": {},
   "outputs": [],
   "source": [
    "import re\n",
    "def part1(txt):\n",
    "    sum = 0\n",
    "    for x, y in re.findall(r'mul\\(([1-9]\\d{0,2}),([1-9]\\d{0,2})\\)', txt):\n",
    "        x, y = int(x), int(y)  \n",
    "        sum +=  x * y\n",
    "    return sum\n",
    "\n",
    "def part2(txt):\n",
    "    sum = 0\n",
    "    enabled = True\n",
    "    x = re.findall(r'mul\\(\\d+,\\d+\\)|don\\'t\\(\\)|do\\(\\)', txt)\n",
    "    for item in x:\n",
    "        match item:\n",
    "            case 'do()':\n",
    "                enabled = True\n",
    "            case \"don\\'t()\":\n",
    "                enabled = False \n",
    "            case _:\n",
    "                if enabled:\n",
    "                    sum += part1(item)\n",
    "    return sum\n",
    " \n",
    "input = open(f'day03.txt').read()\n",
    "print(part1(input), part2(input))"
   ]
  }
 ],
 "metadata": {
  "kernelspec": {
   "display_name": "Python 3",
   "language": "python",
   "name": "python3"
  },
  "language_info": {
   "codemirror_mode": {
    "name": "ipython",
    "version": 3
   },
   "file_extension": ".py",
   "mimetype": "text/x-python",
   "name": "python",
   "nbconvert_exporter": "python",
   "pygments_lexer": "ipython3",
   "version": "3.11.9"
  }
 },
 "nbformat": 4,
 "nbformat_minor": 2
}
