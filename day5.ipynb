{
 "cells": [
  {
   "cell_type": "code",
   "execution_count": null,
   "metadata": {},
   "outputs": [],
   "source": [
    "def part1(ls, rules):\n",
    "    keys = set(rules.keys())\n",
    "    correct = True\n",
    "    copy = ls.copy()[::-1]\n",
    "\n",
    "    while len(copy) > 1:\n",
    "        x = copy.pop()\n",
    "        for i in copy:\n",
    "            if x in keys:\n",
    "                if not i in rules[x]:\n",
    "                    correct = False\n",
    "            else: \n",
    "                correct = False\n",
    "    return correct\n",
    "\n",
    "def part2(ls, rules):\n",
    "    keys = set(rules.keys())\n",
    "    new = []\n",
    "    copy = ls.copy()\n",
    "    while len(new) < len(ls):\n",
    "        for i, left in enumerate(copy):\n",
    "            remaining = copy[:i] + copy[i+1:]  \n",
    "            if left in keys and all(item in rules[left] for item in remaining):\n",
    "                new.append(left)\n",
    "                copy.pop(i)\n",
    "                break  \n",
    "    return new[len(new) // 2]\n"
   ]
  },
  {
   "cell_type": "code",
   "execution_count": null,
   "metadata": {},
   "outputs": [],
   "source": [
    "updates = []\n",
    "rules =  {}\n",
    "\n",
    "with open('day05.txt', encoding='utf8') as f:\n",
    "    for line in f:\n",
    "        ls = line.strip().split('|')\n",
    "        if len(ls) == 2:\n",
    "            pair = list(map(int, ls)) \n",
    "            rules.setdefault(pair[0], []).append(pair[1])  \n",
    "        else:\n",
    "            try:\n",
    "                updates.append(list(map(int, line.strip().split(','))))  \n",
    "            except ValueError:  \n",
    "                pass\n",
    "\n",
    "\n",
    "partI, partII = 0,0\n",
    "\n",
    "for ls in updates: \n",
    "    if part1(ls, rules):\n",
    "        partI += ls[len(ls) // 2]\n",
    "    else:\n",
    "        partII += part2(ls, rules)\n",
    "                       \n",
    "print(partI, partII)"
   ]
  }
 ],
 "metadata": {
  "kernelspec": {
   "display_name": "Python 3",
   "language": "python",
   "name": "python3"
  },
  "language_info": {
   "codemirror_mode": {
    "name": "ipython",
    "version": 3
   },
   "file_extension": ".py",
   "mimetype": "text/x-python",
   "name": "python",
   "nbconvert_exporter": "python",
   "pygments_lexer": "ipython3",
   "version": "3.12.7"
  }
 },
 "nbformat": 4,
 "nbformat_minor": 2
}
