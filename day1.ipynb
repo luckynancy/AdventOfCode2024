{
 "cells": [
  {
   "cell_type": "code",
   "execution_count": null,
   "metadata": {},
   "outputs": [],
   "source": [
    "input1, input2 = [],[]\n",
    "with open('day01.txt', encoding='utf8') as f:\n",
    "    for line in f:\n",
    "        ls = line.strip().split(' ')\n",
    "        input1.append(int(ls[0]))\n",
    "        input2.append(int(ls[3]))\n",
    "input1.sort()\n",
    "input2.sort()"
   ]
  },
  {
   "cell_type": "code",
   "execution_count": null,
   "metadata": {},
   "outputs": [],
   "source": [
    "print(\"Part I: {}\".format(sum([abs(x - y) for x, y in zip(input1, input2)])))\n",
    "print(\"Part II: {}\".format(sum([x*input2.count(x) for x in input1])))"
   ]
  }
 ],
 "metadata": {
  "kernelspec": {
   "display_name": "Python 3",
   "language": "python",
   "name": "python3"
  },
  "language_info": {
   "codemirror_mode": {
    "name": "ipython",
    "version": 3
   },
   "file_extension": ".py",
   "mimetype": "text/x-python",
   "name": "python",
   "nbconvert_exporter": "python",
   "pygments_lexer": "ipython3",
   "version": "3.12.7"
  }
 },
 "nbformat": 4,
 "nbformat_minor": 2
}
